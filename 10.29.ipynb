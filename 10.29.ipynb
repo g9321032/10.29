{
 "cells": [
  {
   "cell_type": "code",
   "execution_count": 4,
   "metadata": {},
   "outputs": [
    {
     "name": "stdout",
     "output_type": "stream",
     "text": [
      "Enter height:23.5\n",
      "Enter weight:19\n",
      "perimerter= 21.25\n",
      "area 446.5\n"
     ]
    }
   ],
   "source": [
    "a=eval(input('Enter height:'))\n",
    "b=eval(input('Enter weight:'))\n",
    "c = (a*2+b*2)/4\n",
    "\n",
    "print('perimerter=',c)\n",
    "d = a*b\n",
    "\n",
    "print('area',d)"
   ]
  },
  {
   "cell_type": "code",
   "execution_count": 3,
   "metadata": {},
   "outputs": [
    {
     "name": "stdout",
     "output_type": "stream",
     "text": [
      "x(min):10\n",
      "y(sec):25\n",
      "z(zm):3\n",
      "speed= 10.8\n"
     ]
    }
   ],
   "source": [
    "a=eval(input('x(min):'))\n",
    "b=eval(input('y(sec):'))\n",
    "c=eval(input('z(zm):'))\n",
    "\n",
    "d = a/60+ b/3600\n",
    "\n",
    "e = c/d /1.6\n",
    "\n",
    "print('speed=',e)"
   ]
  },
  {
   "cell_type": "code",
   "execution_count": 5,
   "metadata": {},
   "outputs": [
    {
     "name": "stdout",
     "output_type": "stream",
     "text": [
      "miles:13\n",
      "Km= 20.8\n"
     ]
    }
   ],
   "source": [
    "a=eval(input('miles:'))\n",
    "b=a*1.6\n",
    "print('Km=',b)"
   ]
  },
  {
   "cell_type": "code",
   "execution_count": 8,
   "metadata": {},
   "outputs": [
    {
     "name": "stdout",
     "output_type": "stream",
     "text": [
      "華氏溫度:222\n",
      "攝氏溫度= 105.55555555555556\n"
     ]
    }
   ],
   "source": [
    "a=eval(input('華氏溫度:'))\n",
    "b=(a-32) * 5/9\n",
    "print('攝氏溫度=',b)"
   ]
  },
  {
   "cell_type": "code",
   "execution_count": 9,
   "metadata": {},
   "outputs": [
    {
     "name": "stdout",
     "output_type": "stream",
     "text": [
      "x:10\n",
      "y:1\n",
      "z:2\n",
      "總和= 13\n",
      "平均= 4.333333333333333\n"
     ]
    }
   ],
   "source": [
    "a=eval(input('x:'))\n",
    "b=eval(input('y:'))\n",
    "c=eval(input('z:'))\n",
    "d= a + b + c\n",
    "e=(a+b+c)/3\n",
    "print('總和=',d)\n",
    "print('平均=',e)"
   ]
  },
  {
   "cell_type": "code",
   "execution_count": null,
   "metadata": {},
   "outputs": [],
   "source": []
  }
 ],
 "metadata": {
  "kernelspec": {
   "display_name": "Python 3",
   "language": "python",
   "name": "python3"
  },
  "language_info": {
   "codemirror_mode": {
    "name": "ipython",
    "version": 3
   },
   "file_extension": ".py",
   "mimetype": "text/x-python",
   "name": "python",
   "nbconvert_exporter": "python",
   "pygments_lexer": "ipython3",
   "version": "3.7.3"
  }
 },
 "nbformat": 4,
 "nbformat_minor": 2
}
